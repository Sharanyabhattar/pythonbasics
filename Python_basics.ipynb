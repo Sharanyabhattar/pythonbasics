{
  "nbformat": 4,
  "nbformat_minor": 0,
  "metadata": {
    "colab": {
      "provenance": []
    },
    "kernelspec": {
      "name": "python3",
      "display_name": "Python 3"
    },
    "language_info": {
      "name": "python"
    }
  },
  "cells": [
    {
      "cell_type": "code",
      "execution_count": null,
      "metadata": {
        "id": "jJ5OlK25IlCN"
      },
      "outputs": [],
      "source": []
    },
    {
      "cell_type": "markdown",
      "source": [],
      "metadata": {
        "id": "5bhrUjl4Kwox"
      }
    },
    {
      "cell_type": "markdown",
      "source": [],
      "metadata": {
        "id": "LJCeHG_SKzKL"
      }
    },
    {
      "cell_type": "markdown",
      "source": [
        "1. What is Python, and why is it popular?\n",
        "- Python is a programming language that is easy to understand and write, making it a popular choice among developers and programmers.\n",
        "\n",
        "2. What is an interpreter in Python?\n",
        "- A Python Interpreter is a program that processes and executes Python code either from a script file or interactively, allowing programmers to test and run code line by line.\n",
        "\n",
        "3.  What are pre-defined keywords in Python?\n",
        "- words that hold a special meaning and have a specific purpose in python programming.\n",
        "\n",
        "4. Can keywords be used as variable names?\n",
        "- No, keyowrds cannot be used as a variable name.\n",
        "\n",
        "5.  What is mutability in Python?\n",
        "- Objects whose state or value can be changed after they are created.\n",
        "\n",
        "6. Why are lists mutable, but tuples are immutable?\n",
        "- Lists are mutable because you can change the order of items in a list or reassign an item in a list. Tuples doesn't have any methods that for changing its contents\n",
        "\n",
        "7. What is the difference between “==” and “is” operators in Python?\n",
        "- The '==' is known as the equality operator. The 'is' is known as the identity operator.\n",
        "\n",
        "8.  What are logical operators in Python?\n",
        "- Logical operators are used to combine or modify boolean values (True or False)\n",
        "\n",
        "9. What is type casting in Python?\n",
        "- The process of changing the data type of a Value or Object.\n",
        "\n",
        "10. What is the difference between implicit and explicit type casting?\n",
        "- Implicit where python understand the data type and Explicit covert data type using inbuilt function.\n",
        "\n",
        "11. What is the purpose of conditional statements in Python?\n",
        "- Helps you to code decisions based on some pre conditions.\n",
        "\n",
        "12.  How does the elif statement work?\n",
        "- It can be used in conditional statements to check for multiple conditions.\n",
        "\n",
        "13. What is the difference between for and while loops?\n",
        "- For loop Iterates over a sequence of elements, While loop repeatedly excecuted a block of code untill a condition is met.\n",
        "\n",
        "14. Describe a scenario where a while loop is more suitable than a for loop.\n",
        "- If you're creating a program that asks the user to enter a password until they enter it correctly. You don't know in advance how many attempts the user will make, so a while loop is ideal.\n",
        "\n",
        "\n",
        "\n"
      ],
      "metadata": {
        "id": "p1igXAM3JZKB"
      }
    },
    {
      "cell_type": "code",
      "source": [
        "#Practical Questions\n",
        "#1 Write a Python program to print \"Hello, World!\"\n",
        "print(\"Hello, World!\")"
      ],
      "metadata": {
        "colab": {
          "base_uri": "https://localhost:8080/"
        },
        "id": "98vwcyTOdeL7",
        "outputId": "b850eb30-310c-4e1e-971f-9498bf85343b"
      },
      "execution_count": null,
      "outputs": [
        {
          "output_type": "stream",
          "name": "stdout",
          "text": [
            "Hello, World!\n"
          ]
        }
      ]
    },
    {
      "cell_type": "code",
      "source": [
        "#2 Write a Python program that displays your name and age\n",
        "name = \"Ajay\"\n",
        "age = 21\n",
        "print(name,age)\n"
      ],
      "metadata": {
        "colab": {
          "base_uri": "https://localhost:8080/"
        },
        "id": "dhip9TXmdvwc",
        "outputId": "cdfc95e4-08ba-497d-8f70-86c9c08eb153"
      },
      "execution_count": null,
      "outputs": [
        {
          "output_type": "stream",
          "name": "stdout",
          "text": [
            "Ajay 21\n"
          ]
        }
      ]
    },
    {
      "cell_type": "code",
      "source": [
        "#3 Write code to print all the pre-defined keywords in Python using the keyword library\n",
        "import keyword\n",
        "print(keyword.kwlist)"
      ],
      "metadata": {
        "id": "ba0dNkV5edJv",
        "colab": {
          "base_uri": "https://localhost:8080/"
        },
        "outputId": "a97c7cbe-5760-4570-e680-8a2515531ee1"
      },
      "execution_count": null,
      "outputs": [
        {
          "output_type": "stream",
          "name": "stdout",
          "text": [
            "['False', 'None', 'True', 'and', 'as', 'assert', 'async', 'await', 'break', 'class', 'continue', 'def', 'del', 'elif', 'else', 'except', 'finally', 'for', 'from', 'global', 'if', 'import', 'in', 'is', 'lambda', 'nonlocal', 'not', 'or', 'pass', 'raise', 'return', 'try', 'while', 'with', 'yield']\n"
          ]
        }
      ]
    },
    {
      "cell_type": "code",
      "source": [
        "#4  Write a program that checks if a given word is a Python keyword\n",
        "word = \"if\"\n",
        "if keyword.iskeyword(\"if\"):\n",
        "    print(\"if is a python keyword\")\n",
        "else:\n",
        "    print(\"if is not a python keyword\")"
      ],
      "metadata": {
        "colab": {
          "base_uri": "https://localhost:8080/"
        },
        "id": "v8qB0c_Sg6Bx",
        "outputId": "16f06296-ecfe-4f96-9dc2-87042df55944"
      },
      "execution_count": null,
      "outputs": [
        {
          "output_type": "stream",
          "name": "stdout",
          "text": [
            "if is a python keyword\n"
          ]
        }
      ]
    },
    {
      "cell_type": "code",
      "source": [
        "#5 Create a list and tuple in Python, and demonstrate how attempting to change an element works differently\n",
        "# for each\n",
        "shopping_list= [\"brinjal\", \"apple\", 2, 2.3, True]\n",
        "shopping_list"
      ],
      "metadata": {
        "colab": {
          "base_uri": "https://localhost:8080/"
        },
        "id": "YXsHHQv4ksGl",
        "outputId": "eba3132d-0228-4ce5-a34e-2bbe575af644"
      },
      "execution_count": null,
      "outputs": [
        {
          "output_type": "execute_result",
          "data": {
            "text/plain": [
              "['brinjal', 'apple', 2, 2.3, True]"
            ]
          },
          "metadata": {},
          "execution_count": 11
        }
      ]
    },
    {
      "cell_type": "code",
      "source": [
        "shopping_list[0] = \"carrot\"\n",
        "shopping_list"
      ],
      "metadata": {
        "colab": {
          "base_uri": "https://localhost:8080/"
        },
        "id": "j4NFOTW-nHm9",
        "outputId": "17afabc7-ed0d-4a90-cd93-dbdcbcfa4421"
      },
      "execution_count": null,
      "outputs": [
        {
          "output_type": "execute_result",
          "data": {
            "text/plain": [
              "['carrot', 'apple', 2, 2.3, True]"
            ]
          },
          "metadata": {},
          "execution_count": 12
        }
      ]
    },
    {
      "cell_type": "code",
      "source": [
        "\"\"\"\n",
        "list are mutable\n",
        "\"\"\""
      ],
      "metadata": {
        "colab": {
          "base_uri": "https://localhost:8080/",
          "height": 36
        },
        "id": "I8cWdjJGqANf",
        "outputId": "0d57c407-9eb2-4a56-9253-f48409d869f4"
      },
      "execution_count": null,
      "outputs": [
        {
          "output_type": "execute_result",
          "data": {
            "text/plain": [
              "'\\nlist are mutable\\n'"
            ],
            "application/vnd.google.colaboratory.intrinsic+json": {
              "type": "string"
            }
          },
          "metadata": {},
          "execution_count": 22
        }
      ]
    },
    {
      "cell_type": "code",
      "source": [
        "emp_name = (\"Ajay\", \"Vijay\", \"Ajay1\")\n",
        "type(emp_name)"
      ],
      "metadata": {
        "colab": {
          "base_uri": "https://localhost:8080/"
        },
        "id": "OSYJ8dONpCFD",
        "outputId": "5f4e41c7-c229-4fe9-b468-0ad6c01ded0d"
      },
      "execution_count": null,
      "outputs": [
        {
          "output_type": "execute_result",
          "data": {
            "text/plain": [
              "tuple"
            ]
          },
          "metadata": {},
          "execution_count": 19
        }
      ]
    },
    {
      "cell_type": "code",
      "source": [
        "emp_name[-1]"
      ],
      "metadata": {
        "colab": {
          "base_uri": "https://localhost:8080/",
          "height": 36
        },
        "id": "fJRsWZfZpZ7D",
        "outputId": "d673f68b-0550-4e0a-e90f-5d3298e07961"
      },
      "execution_count": null,
      "outputs": [
        {
          "output_type": "execute_result",
          "data": {
            "text/plain": [
              "'Ajay1'"
            ],
            "application/vnd.google.colaboratory.intrinsic+json": {
              "type": "string"
            }
          },
          "metadata": {},
          "execution_count": 20
        }
      ]
    },
    {
      "cell_type": "code",
      "source": [
        "emp_name[-1] = \"Ajay2\""
      ],
      "metadata": {
        "colab": {
          "base_uri": "https://localhost:8080/",
          "height": 146
        },
        "id": "QIT8FPtfpefp",
        "outputId": "14ec1927-4902-48ad-baae-0996e2b95680"
      },
      "execution_count": null,
      "outputs": [
        {
          "output_type": "error",
          "ename": "TypeError",
          "evalue": "'tuple' object does not support item assignment",
          "traceback": [
            "\u001b[0;31m---------------------------------------------------------------------------\u001b[0m",
            "\u001b[0;31mTypeError\u001b[0m                                 Traceback (most recent call last)",
            "\u001b[0;32m<ipython-input-21-5563f75f61cf>\u001b[0m in \u001b[0;36m<cell line: 0>\u001b[0;34m()\u001b[0m\n\u001b[0;32m----> 1\u001b[0;31m \u001b[0memp_name\u001b[0m\u001b[0;34m[\u001b[0m\u001b[0;34m-\u001b[0m\u001b[0;36m1\u001b[0m\u001b[0;34m]\u001b[0m \u001b[0;34m=\u001b[0m \u001b[0;34m\"Ajay2\"\u001b[0m\u001b[0;34m\u001b[0m\u001b[0;34m\u001b[0m\u001b[0m\n\u001b[0m",
            "\u001b[0;31mTypeError\u001b[0m: 'tuple' object does not support item assignment"
          ]
        }
      ]
    },
    {
      "cell_type": "code",
      "source": [
        "\"\"\"\n",
        "Tuples are immutable\n",
        "\"\"\""
      ],
      "metadata": {
        "colab": {
          "base_uri": "https://localhost:8080/",
          "height": 36
        },
        "id": "7eMIO5lApjwz",
        "outputId": "e9cee708-82c5-4588-c279-d9d47474cb17"
      },
      "execution_count": null,
      "outputs": [
        {
          "output_type": "execute_result",
          "data": {
            "text/plain": [
              "'\\nTuples are immutable\\n'"
            ],
            "application/vnd.google.colaboratory.intrinsic+json": {
              "type": "string"
            }
          },
          "metadata": {},
          "execution_count": 23
        }
      ]
    },
    {
      "cell_type": "code",
      "source": [
        "#6. write a function to demonstrate the behavior of mutable immutable arguments for each."
      ],
      "metadata": {
        "colab": {
          "base_uri": "https://localhost:8080/"
        },
        "id": "dUmZKxVKqHZd",
        "outputId": "eff02a4f-87ef-457f-e17a-8720a2d107d0"
      },
      "execution_count": null,
      "outputs": [
        {
          "output_type": "stream",
          "name": "stdout",
          "text": [
            "[1, 2, 3, 4]\n"
          ]
        }
      ]
    },
    {
      "cell_type": "code",
      "source": [
        "my_list.insert(1,5)\n",
        "print(my_list)"
      ],
      "metadata": {
        "colab": {
          "base_uri": "https://localhost:8080/"
        },
        "id": "nmHFAqn8rWzV",
        "outputId": "9140ed3e-6bb0-45a8-843f-ed5b346fb8b8"
      },
      "execution_count": null,
      "outputs": [
        {
          "output_type": "stream",
          "name": "stdout",
          "text": [
            "[1, 5, 2, 3, 4]\n"
          ]
        }
      ]
    },
    {
      "cell_type": "code",
      "source": [
        "my_list.remove(5)\n",
        "print(my_list)"
      ],
      "metadata": {
        "colab": {
          "base_uri": "https://localhost:8080/"
        },
        "id": "Iy03Gj_xrmlz",
        "outputId": "1d1c2cbf-61ee-44d8-ccb3-4279b29d88c5"
      },
      "execution_count": null,
      "outputs": [
        {
          "output_type": "stream",
          "name": "stdout",
          "text": [
            "[1, 2, 3, 4]\n"
          ]
        }
      ]
    },
    {
      "cell_type": "code",
      "source": [
        "popped_element = my_list.pop(0)\n",
        "print(my_list)\n",
        "print(popped_element)"
      ],
      "metadata": {
        "colab": {
          "base_uri": "https://localhost:8080/"
        },
        "id": "Ziaojt_kry-0",
        "outputId": "050a90c3-1d87-43e6-8737-2465c662be5a"
      },
      "execution_count": null,
      "outputs": [
        {
          "output_type": "stream",
          "name": "stdout",
          "text": [
            "[3, 4]\n",
            "1\n"
          ]
        }
      ]
    },
    {
      "cell_type": "code",
      "source": [
        "# Immutable agruments:\n",
        "message = \"welcome to pwskills\"\n",
        "message[0] = 'p'\n",
        "print(message)"
      ],
      "metadata": {
        "colab": {
          "base_uri": "https://localhost:8080/",
          "height": 200
        },
        "id": "UnYTI1Xfr6Ay",
        "outputId": "373a2f8b-63df-4a68-c70c-f859198b7191"
      },
      "execution_count": null,
      "outputs": [
        {
          "output_type": "error",
          "ename": "TypeError",
          "evalue": "'str' object does not support item assignment",
          "traceback": [
            "\u001b[0;31m---------------------------------------------------------------------------\u001b[0m",
            "\u001b[0;31mTypeError\u001b[0m                                 Traceback (most recent call last)",
            "\u001b[0;32m<ipython-input-31-35e989479e96>\u001b[0m in \u001b[0;36m<cell line: 0>\u001b[0;34m()\u001b[0m\n\u001b[1;32m      1\u001b[0m \u001b[0;31m# Immutable agruments:\u001b[0m\u001b[0;34m\u001b[0m\u001b[0;34m\u001b[0m\u001b[0m\n\u001b[1;32m      2\u001b[0m \u001b[0mmessage\u001b[0m \u001b[0;34m=\u001b[0m \u001b[0;34m\"welcome to pwskills\"\u001b[0m\u001b[0;34m\u001b[0m\u001b[0;34m\u001b[0m\u001b[0m\n\u001b[0;32m----> 3\u001b[0;31m \u001b[0mmessage\u001b[0m\u001b[0;34m[\u001b[0m\u001b[0;36m0\u001b[0m\u001b[0;34m]\u001b[0m \u001b[0;34m=\u001b[0m \u001b[0;34m'p'\u001b[0m\u001b[0;34m\u001b[0m\u001b[0;34m\u001b[0m\u001b[0m\n\u001b[0m\u001b[1;32m      4\u001b[0m \u001b[0mprint\u001b[0m\u001b[0;34m(\u001b[0m\u001b[0mmessage\u001b[0m\u001b[0;34m)\u001b[0m\u001b[0;34m\u001b[0m\u001b[0;34m\u001b[0m\u001b[0m\n",
            "\u001b[0;31mTypeError\u001b[0m: 'str' object does not support item assignment"
          ]
        }
      ]
    },
    {
      "cell_type": "code",
      "source": [
        "W#7 rite a function to demonstrate the behavior of mutable and immutable arguments\n",
        "\"\"\"\n",
        "the question is repeated\n",
        "\"\"\""
      ],
      "metadata": {
        "colab": {
          "base_uri": "https://localhost:8080/",
          "height": 36
        },
        "id": "ii5fYrROslRp",
        "outputId": "643330d1-14e1-44db-ce16-cec51f7efa88"
      },
      "execution_count": null,
      "outputs": [
        {
          "output_type": "execute_result",
          "data": {
            "text/plain": [
              "'\\nthe question is repeated\\n'"
            ],
            "application/vnd.google.colaboratory.intrinsic+json": {
              "type": "string"
            }
          },
          "metadata": {},
          "execution_count": 32
        }
      ]
    },
    {
      "cell_type": "code",
      "source": [
        "#8 Write a program to demonstrate the use of logical operators\n",
        "sentence = \"I am a student at Pwskills\"\n",
        "search_word = \"am\"\n",
        "if search_word in sentence:\n",
        "    print(\"the search word is present\")\n",
        "else:\n",
        "    print(\"not present\")\n"
      ],
      "metadata": {
        "colab": {
          "base_uri": "https://localhost:8080/"
        },
        "id": "KKrSDbn-s738",
        "outputId": "a9fb20a8-68ae-4580-d0cf-591368f93114"
      },
      "execution_count": null,
      "outputs": [
        {
          "output_type": "stream",
          "name": "stdout",
          "text": [
            "the search word is present\n"
          ]
        }
      ]
    },
    {
      "cell_type": "code",
      "source": [
        "#9  Write a Python program to convert user input from string to integer, float, and boolean types\n",
        "name = input(\"Enter your name\")\n",
        "print(name)"
      ],
      "metadata": {
        "colab": {
          "base_uri": "https://localhost:8080/"
        },
        "id": "LTmloAopwa7s",
        "outputId": "f0b2368b-bd01-4522-cc7e-0bd98fb13fa0"
      },
      "execution_count": null,
      "outputs": [
        {
          "output_type": "stream",
          "name": "stdout",
          "text": [
            "Enter your nameAjay\n",
            "Ajay\n"
          ]
        }
      ]
    },
    {
      "cell_type": "code",
      "source": [
        "type(name)"
      ],
      "metadata": {
        "colab": {
          "base_uri": "https://localhost:8080/"
        },
        "id": "notQEXCkx029",
        "outputId": "e16c264a-c352-4659-8e2c-b6cc1193bc52"
      },
      "execution_count": null,
      "outputs": [
        {
          "output_type": "execute_result",
          "data": {
            "text/plain": [
              "str"
            ]
          },
          "metadata": {},
          "execution_count": 35
        }
      ]
    },
    {
      "cell_type": "code",
      "source": [
        "#convert to integer\n",
        "int_name = int(name)\n",
        "print(int_name)"
      ],
      "metadata": {
        "colab": {
          "base_uri": "https://localhost:8080/",
          "height": 182
        },
        "id": "nfUDWIa1yj4h",
        "outputId": "47381692-c354-4954-ab39-d99b7fc65173"
      },
      "execution_count": null,
      "outputs": [
        {
          "output_type": "error",
          "ename": "ValueError",
          "evalue": "invalid literal for int() with base 10: 'Ajay'",
          "traceback": [
            "\u001b[0;31m---------------------------------------------------------------------------\u001b[0m",
            "\u001b[0;31mValueError\u001b[0m                                Traceback (most recent call last)",
            "\u001b[0;32m<ipython-input-37-ba00039fed5a>\u001b[0m in \u001b[0;36m<cell line: 0>\u001b[0;34m()\u001b[0m\n\u001b[1;32m      1\u001b[0m \u001b[0;31m#convert to integer\u001b[0m\u001b[0;34m\u001b[0m\u001b[0;34m\u001b[0m\u001b[0m\n\u001b[0;32m----> 2\u001b[0;31m \u001b[0mint_name\u001b[0m \u001b[0;34m=\u001b[0m \u001b[0mint\u001b[0m\u001b[0;34m(\u001b[0m\u001b[0mname\u001b[0m\u001b[0;34m)\u001b[0m\u001b[0;34m\u001b[0m\u001b[0;34m\u001b[0m\u001b[0m\n\u001b[0m\u001b[1;32m      3\u001b[0m \u001b[0mprint\u001b[0m\u001b[0;34m(\u001b[0m\u001b[0mint_name\u001b[0m\u001b[0;34m)\u001b[0m\u001b[0;34m\u001b[0m\u001b[0;34m\u001b[0m\u001b[0m\n",
            "\u001b[0;31mValueError\u001b[0m: invalid literal for int() with base 10: 'Ajay'"
          ]
        }
      ]
    },
    {
      "cell_type": "code",
      "source": [
        "#convert to float\n",
        "float_name = float(name)\n",
        "print(float_name)"
      ],
      "metadata": {
        "colab": {
          "base_uri": "https://localhost:8080/",
          "height": 182
        },
        "id": "REr9SimDzL8j",
        "outputId": "74e70871-c5b2-47bf-8020-4f8197862bca"
      },
      "execution_count": null,
      "outputs": [
        {
          "output_type": "error",
          "ename": "ValueError",
          "evalue": "could not convert string to float: 'Ajay'",
          "traceback": [
            "\u001b[0;31m---------------------------------------------------------------------------\u001b[0m",
            "\u001b[0;31mValueError\u001b[0m                                Traceback (most recent call last)",
            "\u001b[0;32m<ipython-input-39-283b93f8755a>\u001b[0m in \u001b[0;36m<cell line: 0>\u001b[0;34m()\u001b[0m\n\u001b[1;32m      1\u001b[0m \u001b[0;31m#convert to float\u001b[0m\u001b[0;34m\u001b[0m\u001b[0;34m\u001b[0m\u001b[0m\n\u001b[0;32m----> 2\u001b[0;31m \u001b[0mfloat_name\u001b[0m \u001b[0;34m=\u001b[0m \u001b[0mfloat\u001b[0m\u001b[0;34m(\u001b[0m\u001b[0mname\u001b[0m\u001b[0;34m)\u001b[0m\u001b[0;34m\u001b[0m\u001b[0;34m\u001b[0m\u001b[0m\n\u001b[0m\u001b[1;32m      3\u001b[0m \u001b[0mprint\u001b[0m\u001b[0;34m(\u001b[0m\u001b[0mfloat_name\u001b[0m\u001b[0;34m)\u001b[0m\u001b[0;34m\u001b[0m\u001b[0;34m\u001b[0m\u001b[0m\n",
            "\u001b[0;31mValueError\u001b[0m: could not convert string to float: 'Ajay'"
          ]
        }
      ]
    },
    {
      "cell_type": "code",
      "source": [
        "#convert to boolean\n",
        "bool_name = bool(name)\n",
        "print(bool_name)"
      ],
      "metadata": {
        "colab": {
          "base_uri": "https://localhost:8080/"
        },
        "id": "iNlulD7_zWkk",
        "outputId": "7986743d-763f-4e52-e7d8-15e7606a9150"
      },
      "execution_count": null,
      "outputs": [
        {
          "output_type": "stream",
          "name": "stdout",
          "text": [
            "True\n"
          ]
        }
      ]
    },
    {
      "cell_type": "code",
      "source": [
        "#10 Write code to demonstrate type casting with list elements\n",
        "# String to integer\n",
        "str_value = \"123\"\n",
        "int_value = int(str_value)\n",
        "print(int_value)"
      ],
      "metadata": {
        "colab": {
          "base_uri": "https://localhost:8080/"
        },
        "id": "NukFsD8Lzeil",
        "outputId": "f14ecf8a-b945-4d29-f191-ea8229d2564a"
      },
      "execution_count": null,
      "outputs": [
        {
          "output_type": "stream",
          "name": "stdout",
          "text": [
            "123\n"
          ]
        }
      ]
    },
    {
      "cell_type": "code",
      "source": [
        "# string to float\n",
        "float_value = float(str_value)\n",
        "print(float_value)"
      ],
      "metadata": {
        "colab": {
          "base_uri": "https://localhost:8080/"
        },
        "id": "49KqMJq12BI8",
        "outputId": "f5437b99-f0ad-4ac4-b031-5446a63d2cc7"
      },
      "execution_count": null,
      "outputs": [
        {
          "output_type": "stream",
          "name": "stdout",
          "text": [
            "123.0\n"
          ]
        }
      ]
    },
    {
      "cell_type": "code",
      "source": [
        "# string to boolean\n",
        "bool_value = bool(str_value)\n",
        "print(bool_value)"
      ],
      "metadata": {
        "colab": {
          "base_uri": "https://localhost:8080/"
        },
        "id": "ttuq0vaj2GNU",
        "outputId": "6d1af9b3-4cbe-462b-8d6d-faedde965d41"
      },
      "execution_count": null,
      "outputs": [
        {
          "output_type": "stream",
          "name": "stdout",
          "text": [
            "True\n"
          ]
        }
      ]
    },
    {
      "cell_type": "code",
      "source": [
        "# integer to string\n",
        "int_value = 123\n",
        "str_value = str(int_value)\n",
        "print(str_value)"
      ],
      "metadata": {
        "colab": {
          "base_uri": "https://localhost:8080/"
        },
        "id": "xl4EBlIR2MzP",
        "outputId": "4b5cb3c9-1bcf-447e-fc41-217c8de2df3e"
      },
      "execution_count": null,
      "outputs": [
        {
          "output_type": "stream",
          "name": "stdout",
          "text": [
            "123\n"
          ]
        }
      ]
    },
    {
      "cell_type": "code",
      "source": [
        "# float to integer\n",
        "float_value = 123.45\n",
        "int_value = int(float_value)\n",
        "print(int_value)"
      ],
      "metadata": {
        "colab": {
          "base_uri": "https://localhost:8080/"
        },
        "id": "TBe34o2N2TEG",
        "outputId": "05361203-98b4-44dc-9a83-1a94ff833f7c"
      },
      "execution_count": null,
      "outputs": [
        {
          "output_type": "stream",
          "name": "stdout",
          "text": [
            "123\n"
          ]
        }
      ]
    },
    {
      "cell_type": "code",
      "source": [
        "#11 Write a program that checks if a number is positive, negative, or zero\n",
        "num = float(input(\"Enter a number\"))\n",
        "if num > 0:\n",
        "    print(\"The number is positive\")\n",
        "elif num < 0:\n",
        "    print(\"The number is negative\")\n",
        "else:\n",
        "    print(\"The number is zero\")"
      ],
      "metadata": {
        "colab": {
          "base_uri": "https://localhost:8080/"
        },
        "id": "famPpR1Y2Xb6",
        "outputId": "3ce9892b-7b85-467f-d337-6b8f4352138d"
      },
      "execution_count": null,
      "outputs": [
        {
          "output_type": "stream",
          "name": "stdout",
          "text": [
            "Enter a number5\n",
            "The number is positive\n"
          ]
        }
      ]
    },
    {
      "cell_type": "code",
      "source": [
        "#12 Write a for loop to print numbers from 1 to 10\n",
        "for i in range(1,11):\n",
        "    print(i)"
      ],
      "metadata": {
        "colab": {
          "base_uri": "https://localhost:8080/"
        },
        "id": "2o24NLvO3krL",
        "outputId": "37d5b867-ea17-4ec9-ebc8-25544846e85a"
      },
      "execution_count": null,
      "outputs": [
        {
          "output_type": "stream",
          "name": "stdout",
          "text": [
            "1\n",
            "2\n",
            "3\n",
            "4\n",
            "5\n",
            "6\n",
            "7\n",
            "8\n",
            "9\n",
            "10\n"
          ]
        }
      ]
    },
    {
      "cell_type": "code",
      "source": [
        "#13  Write a Python program to find the sum of all even numbers between 1 and 50\n",
        "sum_even = 0\n",
        "for i in range(1,51):\n",
        "    if i % 2 == 0:\n",
        "        sum_even += i\n",
        "print(sum_even)"
      ],
      "metadata": {
        "colab": {
          "base_uri": "https://localhost:8080/"
        },
        "id": "_sr5_r5C4f9r",
        "outputId": "13c433d2-b399-43cf-c77d-e270b79a6a14"
      },
      "execution_count": null,
      "outputs": [
        {
          "output_type": "stream",
          "name": "stdout",
          "text": [
            "650\n"
          ]
        }
      ]
    },
    {
      "cell_type": "code",
      "source": [
        "\n",
        "string = \"pwskills\"\n",
        "reversed_string = \"\"\n",
        "length = len(string)\n",
        "while length > 0:\n",
        "    reversed_string += string[length - 1]\n",
        "    length -= 1\n",
        "print(reversed_string)"
      ],
      "metadata": {
        "colab": {
          "base_uri": "https://localhost:8080/"
        },
        "id": "kPIWYn2A4oS6",
        "outputId": "8132a432-e940-4d99-82a4-497f76afdc38"
      },
      "execution_count": null,
      "outputs": [
        {
          "output_type": "stream",
          "name": "stdout",
          "text": [
            "sllikswp\n"
          ]
        }
      ]
    },
    {
      "cell_type": "code",
      "source": [
        "#15  Write a Python program to calculate the factorial of a number provided by the user using a while loop\n",
        "num = int(input(\"Enter a number\"))\n",
        "factorial = 1\n",
        "while num > 0:\n",
        "    factorial *= num\n",
        "    num -= 1\n",
        "print(factorial)"
      ],
      "metadata": {
        "colab": {
          "base_uri": "https://localhost:8080/"
        },
        "id": "rbvizkvT5Vmk",
        "outputId": "2f01222f-54c8-469f-bac6-027a7425006c"
      },
      "execution_count": null,
      "outputs": [
        {
          "output_type": "stream",
          "name": "stdout",
          "text": [
            "Enter a number5\n",
            "120\n"
          ]
        }
      ]
    },
    {
      "cell_type": "code",
      "source": [],
      "metadata": {
        "id": "-37Krfqq6IVu"
      },
      "execution_count": null,
      "outputs": []
    }
  ]
}